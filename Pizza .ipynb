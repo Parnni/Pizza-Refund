{
 "cells": [
  {
   "cell_type": "code",
   "execution_count": 3,
   "id": "186bad37",
   "metadata": {},
   "outputs": [],
   "source": [
    "# Importing modules.\n",
    "import numpy as np\n",
    "import pandas as pd\n",
    "\n",
    "# Importing visualization modules.\n",
    "import matplotlib.pyplot as plt\n",
    "import seaborn as sb\n",
    "\n",
    "# Importing Keras and Sklearn modules.\n",
    "from keras.preprocessing.image import ImageDataGenerator\n",
    "from sklearn.metrics import confusion_matrix, accuracy_score"
   ]
  },
  {
   "cell_type": "code",
   "execution_count": 5,
   "id": "d6c4c88a",
   "metadata": {},
   "outputs": [],
   "source": [
    "# Using ImageDataGenerator.\n",
    "\n",
    "# Using validation_split to get training and validation data.\n",
    "train_img_gen = ImageDataGenerator(rescale = 1/255, \n",
    "                                   validation_split = 0.3)   # Train data.\n",
    "test_img_gen = ImageDataGenerator(rescale = 1/255)           # Test data."
   ]
  },
  {
   "cell_type": "code",
   "execution_count": 6,
   "id": "3df39a7c",
   "metadata": {},
   "outputs": [
    {
     "name": "stdout",
     "output_type": "stream",
     "text": [
      "Found 497 images belonging to 2 classes.\n",
      "Found 212 images belonging to 2 classes.\n"
     ]
    }
   ],
   "source": [
    "seed_ = np.random.seed(50)                                  # Assign seed value.\n",
    "batch_size = 32                                             # Assign batch size.\n",
    "\n",
    "# Importing and modifying the data from specified directories.\n",
    "\n",
    "# Training data.\n",
    "pizza_train_img = train_img_gen.flow_from_directory('train/', \n",
    "                                                    target_size = (28, 28),\n",
    "                                                    color_mode = 'rgb',\n",
    "                                                    class_mode = 'categorical',\n",
    "                                                    batch_size = batch_size,\n",
    "                                                    seed = seed_,\n",
    "                                                    subset = 'training')\n",
    "\n",
    "# Validation data.\n",
    "pizza_val_img = train_img_gen.flow_from_directory('train/', \n",
    "                                                   target_size = (28, 28),\n",
    "                                                   color_mode = 'rgb',\n",
    "                                                   class_mode = 'categorical',\n",
    "                                                   batch_size = batch_size,\n",
    "                                                   seed = seed_,\n",
    "                                                   subset = 'validation')"
   ]
  },
  {
   "cell_type": "code",
   "execution_count": 7,
   "id": "d3c4783c",
   "metadata": {},
   "outputs": [
    {
     "data": {
      "text/plain": [
       "{'Burnt_pizza': 0, 'Good_pizza': 1}"
      ]
     },
     "execution_count": 7,
     "metadata": {},
     "output_type": "execute_result"
    }
   ],
   "source": [
    "# Print the class indices.\n",
    "pizza_train_img.class_indices"
   ]
  },
  {
   "cell_type": "code",
   "execution_count": 8,
   "id": "be157b5d",
   "metadata": {},
   "outputs": [
    {
     "name": "stdout",
     "output_type": "stream",
     "text": [
      "Found 40 images belonging to 1 classes.\n"
     ]
    }
   ],
   "source": [
    "# Testing data.\n",
    "pizza_test_img = test_img_gen.flow_from_directory('test/', \n",
    "                                                   target_size = (28, 28),\n",
    "                                                   color_mode = 'rgb',\n",
    "                                                   class_mode = None,\n",
    "                                                   batch_size = batch_size,\n",
    "                                                   seed = seed_, \n",
    "                                                   shuffle = False)"
   ]
  },
  {
   "cell_type": "code",
   "execution_count": 9,
   "id": "6cd4b01e",
   "metadata": {},
   "outputs": [
    {
     "data": {
      "image/png": "[encoded data removed]",
      "text/plain": [
       "<Figure size 432x288 with 1 Axes>"
      ]
     },
     "metadata": {
      "needs_background": "light"
     },
     "output_type": "display_data"
    }
   ],
   "source": [
    "# Quick glance at the images.\n",
    "plt.imshow(pizza_train_img[0][0][4])\n",
    "plt.show()"
   ]
  },
  {
   "cell_type": "code",
   "execution_count": 10,
   "id": "28e29de6",
   "metadata": {},
   "outputs": [],
   "source": [
    "# Importing modules.\n",
    "from keras import Sequential\n",
    "from keras.layers import Input, Flatten, Dense, BatchNormalization, Dropout\n",
    "from keras.callbacks import Callback, EarlyStopping, ReduceLROnPlateau\n",
    "from keras.models import Model\n",
    "from keras.initializers import GlorotUniform\n",
    "from keras.regularizers import l2\n",
    "from keras.losses import BinaryCrossentropy\n",
    "from keras.optimizers import Adam\n",
    "from keras.metrics import BinaryAccuracy, Accuracy"
   ]
  },
  {
   "cell_type": "code",
   "execution_count": 12,
   "id": "25e652da",
   "metadata": {},
   "outputs": [],
   "source": [
    "# Model development.\n",
    "input_shape = pizza_train_img[0][0][0].shape        # Input shape.\n",
    "drop_rate = 0.3                                     # Dropout rate.\n",
    "decay_rate = 0.1                                    # Decay rate.\n",
    "\n",
    "def prepare_model(input_shape, drop_rate, decay_rate):\n",
    "    '''This function returns the model.\n",
    "       \n",
    "       Input  - 1. Shape of the image.\n",
    "                2. Drop out rate.\n",
    "                3. Decay rate.\n",
    "       Output - return the Model.\n",
    "    '''\n",
    "    model = Sequential()\n",
    "    model.add(Flatten(input_shape = list(input_shape)))\n",
    "    model.add(Dense(1024, activation = 'relu', name = 'Dense100',\n",
    "                    kernel_initializer = GlorotUniform()))\n",
    "    model.add(BatchNormalization())\n",
    "    model.add(Dropout(drop_rate))\n",
    "    \n",
    "    model.add(Dense(1024, activation = 'relu', name = 'Dense150',\n",
    "                    kernel_initializer = GlorotUniform()))\n",
    "    model.add(BatchNormalization())\n",
    "    model.add(Dropout(drop_rate))\n",
    "    \n",
    "    model.add(Dense(1024, activation = 'relu', name = 'Dense175',\n",
    "                    kernel_initializer = GlorotUniform()))\n",
    "    model.add(BatchNormalization())\n",
    "    model.add(Dropout(drop_rate))\n",
    "    \n",
    "    model.add(Dense(1024, activation = 'relu', name = 'Dense200',\n",
    "                    kernel_initializer = GlorotUniform()))\n",
    "    model.add(BatchNormalization())\n",
    "    \n",
    "    model.add(Dense(2, activation = 'linear', name = 'Output'))\n",
    "    \n",
    "    return model"
   ]
  },
  {
   "cell_type": "code",
   "execution_count": 13,
   "id": "b0b63d7e",
   "metadata": {},
   "outputs": [],
   "source": [
    "# Model1.\n",
    "model1 = prepare_model(input_shape, drop_rate, decay_rate)"
   ]
  },
  {
   "cell_type": "code",
   "execution_count": 14,
   "id": "80f1c52c",
   "metadata": {},
   "outputs": [],
   "source": [
    "# Compiling the model.\n",
    "model1.compile(loss = BinaryCrossentropy(from_logits = True),\n",
    "               optimizer = Adam(),\n",
    "               metrics = [BinaryAccuracy()])"
   ]
  },
  {
   "cell_type": "code",
   "execution_count": 15,
   "id": "a287d98d",
   "metadata": {},
   "outputs": [],
   "source": [
    "# Using callbacks.\n",
    "dlr = ReduceLROnPlateau(monitor = 'val_loss', patience = 3, factor = 0.5)"
   ]
  },
  {
   "cell_type": "code",
   "execution_count": 16,
   "id": "37d89023",
   "metadata": {},
   "outputs": [
    {
     "name": "stdout",
     "output_type": "stream",
     "text": [
      "Epoch 1/10\n"
     ]
    },
    {
     "name": "stderr",
     "output_type": "stream",
     "text": [
      "C:\\Users\\praja\\anaconda3\\lib\\site-packages\\PIL\\TiffImagePlugin.py:785: UserWarning: Corrupt EXIF data.  Expecting to read 4 bytes but only got 0. \n",
      "  warnings.warn(str(msg))\n",
      "C:\\Users\\praja\\anaconda3\\lib\\site-packages\\PIL\\TiffImagePlugin.py:785: UserWarning: Corrupt EXIF data.  Expecting to read 12 bytes but only got 10. \n",
      "  warnings.warn(str(msg))\n"
     ]
    },
    {
     "name": "stdout",
     "output_type": "stream",
     "text": [
      "15/15 - 16s - loss: 0.6623 - binary_accuracy: 0.7667 - val_loss: 0.8565 - val_binary_accuracy: 0.6641\n",
      "Epoch 2/10\n",
      "15/15 - 12s - loss: 0.3855 - binary_accuracy: 0.8624 - val_loss: 3.4253 - val_binary_accuracy: 0.6328\n",
      "Epoch 3/10\n",
      "15/15 - 12s - loss: 0.2768 - binary_accuracy: 0.9031 - val_loss: 5.7712 - val_binary_accuracy: 0.5938\n",
      "Epoch 4/10\n",
      "15/15 - 12s - loss: 0.1850 - binary_accuracy: 0.9355 - val_loss: 3.8087 - val_binary_accuracy: 0.6458\n",
      "Epoch 5/10\n",
      "15/15 - 12s - loss: 0.1412 - binary_accuracy: 0.9473 - val_loss: 5.4759 - val_binary_accuracy: 0.6224\n",
      "Epoch 6/10\n",
      "15/15 - 13s - loss: 0.1109 - binary_accuracy: 0.9604 - val_loss: 1.2231 - val_binary_accuracy: 0.7760\n",
      "Epoch 7/10\n",
      "15/15 - 12s - loss: 0.0919 - binary_accuracy: 0.9667 - val_loss: 2.1308 - val_binary_accuracy: 0.7240\n",
      "Epoch 8/10\n",
      "15/15 - 12s - loss: 0.0604 - binary_accuracy: 0.9774 - val_loss: 1.2073 - val_binary_accuracy: 0.7604\n",
      "Epoch 9/10\n",
      "15/15 - 12s - loss: 0.0560 - binary_accuracy: 0.9720 - val_loss: 1.2997 - val_binary_accuracy: 0.7630\n",
      "Epoch 10/10\n",
      "15/15 - 12s - loss: 0.0441 - binary_accuracy: 0.9785 - val_loss: 0.8024 - val_binary_accuracy: 0.8099\n"
     ]
    }
   ],
   "source": [
    "# Defining steps required for each epoch.\n",
    "steps_per_epoch = pizza_train_img.n//pizza_train_img.batch_size\n",
    "val_steps = pizza_val_img.n//pizza_val_img.batch_size\n",
    "\n",
    "# Running the model and saving results in history1.\n",
    "history1 = model1.fit(pizza_train_img, steps_per_epoch = steps_per_epoch,\n",
    "                      validation_data = pizza_val_img, validation_steps = val_steps,\n",
    "                      epochs = 10, verbose = 2, callbacks = [dlr])"
   ]
  },
  {
   "cell_type": "code",
   "execution_count": 17,
   "id": "fb1250ee",
   "metadata": {},
   "outputs": [
    {
     "data": {
      "image/png": "[encoded data removed]",
      "text/plain": [
       "<Figure size 432x288 with 1 Axes>"
      ]
     },
     "metadata": {
      "needs_background": "light"
     },
     "output_type": "display_data"
    }
   ],
   "source": [
    "# Plotting the losses.\n",
    "plt.plot(history1.history['loss'])\n",
    "plt.plot(history1.history['val_loss'])\n",
    "plt.show()"
   ]
  },
  {
   "cell_type": "code",
   "execution_count": 18,
   "id": "64590072",
   "metadata": {},
   "outputs": [
    {
     "data": {
      "image/png": "[encoded data removed]",
      "text/plain": [
       "<Figure size 432x288 with 1 Axes>"
      ]
     },
     "metadata": {
      "needs_background": "light"
     },
     "output_type": "display_data"
    }
   ],
   "source": [
    "# Plotting the accuracies.\n",
    "plt.plot(history1.history['binary_accuracy'])\n",
    "plt.plot(history1.history['val_binary_accuracy'])\n",
    "plt.show()"
   ]
  },
  {
   "cell_type": "code",
   "execution_count": 20,
   "id": "54bf60ad",
   "metadata": {},
   "outputs": [
    {
     "name": "stdout",
     "output_type": "stream",
     "text": [
      "0.9784946441650391\n",
      "0.8098958134651184\n"
     ]
    }
   ],
   "source": [
    "# Printing the final values.\n",
    "print(history1.history['binary_accuracy'][-1])\n",
    "print(history1.history['val_binary_accuracy'][-1])"
   ]
  },
  {
   "cell_type": "code",
   "execution_count": 22,
   "id": "5c51d3cf",
   "metadata": {},
   "outputs": [],
   "source": [
    "# Predicting the values.\n",
    "predict_val = model1.predict(pizza_test_img).argmax(axis = -1)"
   ]
  },
  {
   "cell_type": "code",
   "execution_count": 23,
   "id": "e8adad38",
   "metadata": {},
   "outputs": [],
   "source": [
    "# Mapping the values.\n",
    "pred = ['Burnt_pizza' if x == 0 else 'Good_pizza' for x in predict_val]"
   ]
  },
  {
   "cell_type": "code",
   "execution_count": 24,
   "id": "1623320a",
   "metadata": {},
   "outputs": [
    {
     "data": {
      "text/plain": [
       "['Burnt_pizza',\n",
       " 'Good_pizza',\n",
       " 'Burnt_pizza',\n",
       " 'Good_pizza',\n",
       " 'Good_pizza',\n",
       " 'Good_pizza',\n",
       " 'Good_pizza',\n",
       " 'Burnt_pizza',\n",
       " 'Good_pizza',\n",
       " 'Good_pizza',\n",
       " 'Good_pizza',\n",
       " 'Good_pizza',\n",
       " 'Good_pizza',\n",
       " 'Burnt_pizza',\n",
       " 'Burnt_pizza',\n",
       " 'Good_pizza',\n",
       " 'Good_pizza',\n",
       " 'Good_pizza',\n",
       " 'Good_pizza',\n",
       " 'Burnt_pizza',\n",
       " 'Burnt_pizza',\n",
       " 'Good_pizza',\n",
       " 'Good_pizza',\n",
       " 'Burnt_pizza',\n",
       " 'Burnt_pizza',\n",
       " 'Good_pizza',\n",
       " 'Good_pizza',\n",
       " 'Good_pizza',\n",
       " 'Burnt_pizza',\n",
       " 'Good_pizza',\n",
       " 'Burnt_pizza',\n",
       " 'Good_pizza',\n",
       " 'Burnt_pizza',\n",
       " 'Good_pizza',\n",
       " 'Burnt_pizza',\n",
       " 'Good_pizza',\n",
       " 'Burnt_pizza',\n",
       " 'Good_pizza',\n",
       " 'Burnt_pizza',\n",
       " 'Good_pizza']"
      ]
     },
     "execution_count": 24,
     "metadata": {},
     "output_type": "execute_result"
    }
   ],
   "source": [
    "# Printing the predicted values.\n",
    "pred"
   ]
  }
 ],
 "metadata": {
  "kernelspec": {
   "display_name": "Python 3",
   "language": "python",
   "name": "python3"
  },
  "language_info": {
   "codemirror_mode": {
    "name": "ipython",
    "version": 3
   },
   "file_extension": ".py",
   "mimetype": "text/x-python",
   "name": "python",
   "nbconvert_exporter": "python",
   "pygments_lexer": "ipython3",
   "version": "3.8.8"
  }
 },
 "nbformat": 4,
 "nbformat_minor": 5
}
